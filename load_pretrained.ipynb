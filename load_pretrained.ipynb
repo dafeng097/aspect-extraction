{
 "cells": [
  {
   "cell_type": "code",
   "execution_count": 1,
   "metadata": {
    "collapsed": true
   },
   "outputs": [],
   "source": [
    "import os\n",
    "embeddings_path = \"../Pretrained Word Embeddings/glove.twitter.27B/\"\n",
    "file_names = ['glove.twitter.27B.100d.txt',\n",
    " 'glove.twitter.27B.200d.txt',\n",
    " 'glove.twitter.27B.25d.txt',\n",
    " 'glove.twitter.27B.50d.txt']\n",
    "\n",
    "data = open(embeddings_path+file_names[2])"
   ]
  },
  {
   "cell_type": "code",
   "execution_count": 2,
   "metadata": {
    "collapsed": true
   },
   "outputs": [],
   "source": [
    "vec_dic = {}\n",
    "for line in data:\n",
    "    vec = line.split()\n",
    "    word = vec[0]\n",
    "    vec = map(float, vec[1:])\n",
    "    vec_dic[word] = vec\n",
    "    "
   ]
  },
  {
   "cell_type": "code",
   "execution_count": 3,
   "metadata": {
    "collapsed": true
   },
   "outputs": [],
   "source": [
    "# save the vec_dic that have the pretrained vectors\n",
    "import pickle\n",
    "\n",
    "with open('vec_dic.pickle', 'wb') as f:\n",
    "    pickle.dump(vec_dic, f)"
   ]
  },
  {
   "cell_type": "code",
   "execution_count": 20,
   "metadata": {},
   "outputs": [
    {
     "name": "stdout",
     "output_type": "stream",
     "text": [
      "Saved vocab size: 2108, dimension: 50\n"
     ]
    }
   ],
   "source": [
    "## test with sample word2id\n",
    "import pickle\n",
    "import numpy as np\n",
    "\n",
    "load_file = open('id2word.pickle','rb')\n",
    "id2word = pickle.load(load_file)\n",
    "load_file.close()\n",
    "\n",
    "embedding_matrix = []\n",
    "\n",
    "for i in xrange(len(id2word)):\n",
    "    word = id2word[i]\n",
    "    if word in vec_dic:\n",
    "        embedding_matrix.append(vec_dic[word])\n",
    "    else:\n",
    "        # allocate a random vector\n",
    "        embedding_matrix.append(np.random.rand(len(vec_dic['he'])).tolist())\n",
    "\n",
    "print(\"Saved vocab size: %d, dimension: %d\" % (len(embedding_matrix), len(embedding_matrix[0])))\n",
    "save_file = open('embedding_matrix.pickle', 'wb')\n",
    "pickle.dump(embedding_matrix, save_file)\n",
    "save_file.close()"
   ]
  }
 ],
 "metadata": {
  "kernelspec": {
   "display_name": "Python 2",
   "language": "python",
   "name": "python2"
  },
  "language_info": {
   "codemirror_mode": {
    "name": "ipython",
    "version": 2
   },
   "file_extension": ".py",
   "mimetype": "text/x-python",
   "name": "python",
   "nbconvert_exporter": "python",
   "pygments_lexer": "ipython2",
   "version": "2.7.12"
  }
 },
 "nbformat": 4,
 "nbformat_minor": 2
}
