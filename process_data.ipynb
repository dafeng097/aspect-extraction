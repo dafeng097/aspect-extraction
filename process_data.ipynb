{
 "cells": [
  {
   "cell_type": "code",
   "execution_count": 5,
   "metadata": {
    "collapsed": true
   },
   "outputs": [],
   "source": [
    "import xml.etree.ElementTree as ET\n",
    "from __future__ import print_function\n",
    "from nltk import word_tokenize"
   ]
  },
  {
   "cell_type": "code",
   "execution_count": 24,
   "metadata": {},
   "outputs": [],
   "source": [
    "def prepare_csv(file_path, output):\n",
    "    data = ET.parse(file_path)\n",
    "    reviews = data.getroot()\n",
    "    # root.tag\n",
    "    # root.attrib\n",
    "\n",
    "    dataset = []\n",
    "\n",
    "    for review in reviews:\n",
    "        sentences = review[0]\n",
    "        for sentence in sentences:\n",
    "            if len(sentence) > 1:\n",
    "                raw_text = sentence[0].text.strip()\n",
    "                text = word_tokenize(sentence[0].text.strip())\n",
    "                raw_text = raw_text.split()\n",
    "                \n",
    "                sample = [raw_text, []]\n",
    "                aspects = []\n",
    "\n",
    "                opinions = sentence[1]\n",
    "                for opinion in opinions:\n",
    "                    start = int(opinion.attrib['from'])\n",
    "                    end = int(opinion.attrib['to'])\n",
    "                    if start!=end:\n",
    "                        aspects.append((start, end))\n",
    "                \n",
    "                curr = 0\n",
    "                ai = 0\n",
    "                wi = 0\n",
    "                \n",
    "                while(wi < len(sample[0])):\n",
    "                    if ai<len(aspects) and curr == aspects[ai][0]:\n",
    "                        sample[1].append(1)\n",
    "                        curr += len(sample[0][wi]) + 1\n",
    "                        wi += 1\n",
    "                        while(curr<aspects[ai][1]):\n",
    "                            sample[1].append(2)\n",
    "                            curr += len(sample[0][wi]) + 1\n",
    "                            wi += 1\n",
    "                        ai += 1\n",
    "                    else:\n",
    "                        sample[1].append(0)\n",
    "                        curr += len(sample[0][wi]) + 1\n",
    "                        wi += 1\n",
    "                        \n",
    "                wi = 0\n",
    "                while(wi < len(sample[0])):\n",
    "                    word = sample[0][wi]\n",
    "                    tokens = word_tokenize(word)\n",
    "                    if len(tokens)>1:\n",
    "                        sample[0] = sample[0][0:wi] + tokens + sample[0][wi+1:]\n",
    "                        if sample[1][wi] == 0:\n",
    "                            sample[1] = sample[1][0:wi] + [0]*len(tokens) + sample[1][wi+1:]\n",
    "                        elif sample[1][wi] == 1:\n",
    "                            sample[1] = sample[1][0:wi] + [1] + [2]*(len(tokens)-1) + sample[1][wi+1:]\n",
    "                        else:\n",
    "                            sample[1] = sample[1][0:wi] + [2] * len(tokens) + sample[1][wi+1:]\n",
    "                    wi += 1\n",
    "                    \n",
    "                dataset.append(sample)\n",
    "    x = open(output+'_x.txt', 'w')\n",
    "    y = open(output+'_y.txt', 'w')\n",
    "    \n",
    "    for i in xrange(len(dataset)-1):\n",
    "        x.write(u' '.join(dataset[i][0]).encode('utf-8').strip() + '\\n')\n",
    "        y.write(' '.join(map(str, dataset[i][1])) + '\\n')\n",
    "    # to remove the tailing \\n\n",
    "    x.write(' '.join(dataset[-1][0]))\n",
    "    y.write(' '.join(map(str, dataset[-1][1])))\n",
    "\n",
    "prepare_csv('data/ABSA15_Restaurants_Test.xml', 'data/restaurants_test')\n",
    "prepare_csv('data/ABSA-15_Restaurants_Train.xml', 'data/restaurants_train')"
   ]
  },
  {
   "cell_type": "code",
   "execution_count": null,
   "metadata": {
    "collapsed": true
   },
   "outputs": [],
   "source": []
  }
 ],
 "metadata": {
  "kernelspec": {
   "display_name": "Python 2",
   "language": "python",
   "name": "python2"
  },
  "language_info": {
   "codemirror_mode": {
    "name": "ipython",
    "version": 2
   },
   "file_extension": ".py",
   "mimetype": "text/x-python",
   "name": "python",
   "nbconvert_exporter": "python",
   "pygments_lexer": "ipython2",
   "version": "2.7.12"
  }
 },
 "nbformat": 4,
 "nbformat_minor": 2
}
